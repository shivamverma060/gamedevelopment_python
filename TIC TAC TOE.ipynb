{
  "nbformat": 4,
  "nbformat_minor": 0,
  "metadata": {
    "colab": {
      "provenance": []
    },
    "kernelspec": {
      "name": "python3",
      "display_name": "Python 3"
    },
    "language_info": {
      "name": "python"
    }
  },
  "cells": [
    {
      "cell_type": "markdown",
      "source": [
        "Step 1: Write a function that can print out a board. Set up your board as a list, where each index 1-9 corresponds with a number on a number pad, so you get a 3 by 3 board representation."
      ],
      "metadata": {
        "id": "PGimE5N35oc-"
      }
    },
    {
      "cell_type": "code",
      "source": [
        "from IPython.display import clear_output\n",
        "\n",
        "def display_board(board):\n",
        "    clear_output()  # Remember, this only works in jupyter!\n",
        "\n",
        "    print('   |   |')\n",
        "    print(' ' + board[7] + ' | ' + board[8] + ' | ' + board[9])\n",
        "    print('   |   |')\n",
        "    print('-----------')\n",
        "    print('   |   |')\n",
        "    print(' ' + board[4] + ' | ' + board[5] + ' | ' + board[6])\n",
        "    print('   |   |')\n",
        "    print('-----------')\n",
        "    print('   |   |')\n",
        "    print(' ' + board[1] + ' | ' + board[2] + ' | ' + board[3])\n",
        "    print('   |   |')"
      ],
      "metadata": {
        "id": "jZPeolpT5oHP"
      },
      "execution_count": 1,
      "outputs": []
    },
    {
      "cell_type": "markdown",
      "source": [
        "TEST Step 1: run your function on a test version of the board list, and make adjustments as necessary"
      ],
      "metadata": {
        "id": "ff5299cI50TA"
      }
    },
    {
      "cell_type": "code",
      "execution_count": 2,
      "metadata": {
        "colab": {
          "base_uri": "https://localhost:8080/"
        },
        "id": "4Yh2Qxs95i8s",
        "outputId": "3631d04b-fe7d-422a-9c44-061c88525f3b"
      },
      "outputs": [
        {
          "output_type": "stream",
          "name": "stdout",
          "text": [
            "   |   |\n",
            " X | O | X\n",
            "   |   |\n",
            "-----------\n",
            "   |   |\n",
            " O | X | O\n",
            "   |   |\n",
            "-----------\n",
            "   |   |\n",
            " X | O | X\n",
            "   |   |\n"
          ]
        }
      ],
      "source": [
        "test_board = ['#','X','O','X','O','X','O','X','O','X']\n",
        "display_board(test_board)"
      ]
    },
    {
      "cell_type": "markdown",
      "source": [
        "Step 2: Write a function that can take in a player input and assign their marker as 'X' or 'O'. Think about using while loops to continually ask until you get a correct answer."
      ],
      "metadata": {
        "id": "a6Fn2fCw55B9"
      }
    },
    {
      "cell_type": "code",
      "source": [
        "def player_input():\n",
        "    marker = ''\n",
        "\n",
        "    while not (marker == 'X' or marker == 'O'):\n",
        "        marker = input('Player 1: Do you want to be X or O? ').upper()\n",
        "\n",
        "    if marker == 'X':\n",
        "        return ('X', 'O')\n",
        "    else:\n",
        "        return ('O', 'X')"
      ],
      "metadata": {
        "id": "Dwb8tvAT57g9"
      },
      "execution_count": 3,
      "outputs": []
    },
    {
      "cell_type": "markdown",
      "source": [
        "TEST Step 2: run the function to make sure it returns the desired output"
      ],
      "metadata": {
        "id": "Okjfonwi6Ak_"
      }
    },
    {
      "cell_type": "code",
      "source": [
        "player_input()"
      ],
      "metadata": {
        "colab": {
          "base_uri": "https://localhost:8080/"
        },
        "id": "lgDWl-v36BU-",
        "outputId": "0c47a8e0-37e1-4b1a-f449-90a748a7cdea"
      },
      "execution_count": 4,
      "outputs": [
        {
          "name": "stdout",
          "output_type": "stream",
          "text": [
            "Player 1: Do you want to be X or O? x\n"
          ]
        },
        {
          "output_type": "execute_result",
          "data": {
            "text/plain": [
              "('X', 'O')"
            ]
          },
          "metadata": {},
          "execution_count": 4
        }
      ]
    },
    {
      "cell_type": "markdown",
      "source": [
        "Step 3: Write a function that takes in the board list object, a marker ('X' or 'O'), and a desired position (number 1-9) and assigns it to the board."
      ],
      "metadata": {
        "id": "nxf7nv6c6IDl"
      }
    },
    {
      "cell_type": "code",
      "source": [
        "def place_marker(board, marker, position):\n",
        "    board[position] = marker"
      ],
      "metadata": {
        "id": "LHxPTNH16Dpe"
      },
      "execution_count": 5,
      "outputs": []
    },
    {
      "cell_type": "markdown",
      "source": [
        "TEST Step 3: run the place marker function using test parameters and display the modified board"
      ],
      "metadata": {
        "id": "3dUi6k_r6NLu"
      }
    },
    {
      "cell_type": "code",
      "source": [
        "place_marker(test_board,'$',8)\n",
        "display_board(test_board)"
      ],
      "metadata": {
        "colab": {
          "base_uri": "https://localhost:8080/"
        },
        "id": "4aVQNMG56QbY",
        "outputId": "691b1471-0713-4ea5-cb53-7212f3666e3f"
      },
      "execution_count": 6,
      "outputs": [
        {
          "output_type": "stream",
          "name": "stdout",
          "text": [
            "   |   |\n",
            " X | $ | X\n",
            "   |   |\n",
            "-----------\n",
            "   |   |\n",
            " O | X | O\n",
            "   |   |\n",
            "-----------\n",
            "   |   |\n",
            " X | O | X\n",
            "   |   |\n"
          ]
        }
      ]
    },
    {
      "cell_type": "markdown",
      "source": [
        "Step 4: Write a function that takes in a board and checks to see if someone has won."
      ],
      "metadata": {
        "id": "GbNn9D9l6Tvw"
      }
    },
    {
      "cell_type": "code",
      "source": [
        "def win_check(board,mark):\n",
        "\n",
        "    return ((board[7] == mark and board[8] == mark and board[9] == mark) or # across the top\n",
        "    (board[4] == mark and board[5] == mark and board[6] == mark) or # across the middle\n",
        "    (board[1] == mark and board[2] == mark and board[3] == mark) or # across the bottom\n",
        "    (board[7] == mark and board[4] == mark and board[1] == mark) or # down the middle\n",
        "    (board[8] == mark and board[5] == mark and board[2] == mark) or # down the middle\n",
        "    (board[9] == mark and board[6] == mark and board[3] == mark) or # down the right side\n",
        "    (board[7] == mark and board[5] == mark and board[3] == mark) or # diagonal\n",
        "    (board[9] == mark and board[5] == mark and board[1] == mark)) # diagonal"
      ],
      "metadata": {
        "id": "LMSccwdx6WEv"
      },
      "execution_count": 7,
      "outputs": []
    },
    {
      "cell_type": "markdown",
      "source": [
        "TEST Step 4: run the win_check function against our test_board - it should return True"
      ],
      "metadata": {
        "id": "Zg95i-9A6aHf"
      }
    },
    {
      "cell_type": "code",
      "source": [
        "win_check(test_board,'X')"
      ],
      "metadata": {
        "colab": {
          "base_uri": "https://localhost:8080/"
        },
        "id": "fWrYSx_f6a3G",
        "outputId": "b104a93c-098f-481d-a023-506f38b700b2"
      },
      "execution_count": 8,
      "outputs": [
        {
          "output_type": "execute_result",
          "data": {
            "text/plain": [
              "True"
            ]
          },
          "metadata": {},
          "execution_count": 8
        }
      ]
    },
    {
      "cell_type": "markdown",
      "source": [
        "Step 5: Write a function that uses the random module to randomly decide which player goes first. You may want to lookup random.randint() Return a string of which player went first."
      ],
      "metadata": {
        "id": "dE7j6w4R6hA2"
      }
    },
    {
      "cell_type": "code",
      "source": [
        "import random\n",
        "\n",
        "def choose_first():\n",
        "    if random.randint(0, 1) == 0:\n",
        "        return 'Player 2'\n",
        "    else:\n",
        "        return 'Player 1'"
      ],
      "metadata": {
        "id": "gXhPKQyl6fs2"
      },
      "execution_count": 9,
      "outputs": []
    },
    {
      "cell_type": "markdown",
      "source": [
        "Step 6: Write a function that returns a boolean indicating whether a space on the board is freely available."
      ],
      "metadata": {
        "id": "sJpAssc26q8H"
      }
    },
    {
      "cell_type": "code",
      "source": [
        "def space_check(board, position):\n",
        "\n",
        "    return board[position] == ' '"
      ],
      "metadata": {
        "id": "t_538FSf6nAm"
      },
      "execution_count": 10,
      "outputs": []
    },
    {
      "cell_type": "markdown",
      "source": [
        "Step 7: Write a function that checks if the board is full and returns a boolean value. True if full, False otherwise."
      ],
      "metadata": {
        "id": "O6jePXqc6t3t"
      }
    },
    {
      "cell_type": "code",
      "source": [
        "def full_board_check(board):\n",
        "    for i in range(1,10):\n",
        "        if space_check(board, i):\n",
        "            return False\n",
        "    return True"
      ],
      "metadata": {
        "id": "f2IYrPMi6wY2"
      },
      "execution_count": 11,
      "outputs": []
    },
    {
      "cell_type": "markdown",
      "source": [
        "Step 8: Write a function that asks for a player's next position (as a number 1-9) and then uses the function from step 6 to check if its a free position. If it is, then return the position for later use."
      ],
      "metadata": {
        "id": "pm7gCMcw6yb9"
      }
    },
    {
      "cell_type": "code",
      "source": [
        "def player_choice(board):\n",
        "    position = 0\n",
        "\n",
        "    while position not in [1,2,3,4,5,6,7,8,9] or not space_check(board, position):\n",
        "        position = int(input('Choose your next position: (1-9) '))\n",
        "\n",
        "    return position"
      ],
      "metadata": {
        "id": "oMAEq7my60ge"
      },
      "execution_count": 12,
      "outputs": []
    },
    {
      "cell_type": "markdown",
      "source": [
        "\n",
        "Step 9: Write a function that asks the player if they want to play again and returns a boolean True if they do want to play again."
      ],
      "metadata": {
        "id": "ZsL1M2JQ64TG"
      }
    },
    {
      "cell_type": "code",
      "source": [
        "def replay():\n",
        "\n",
        "    return input('Do you want to play again? Enter Yes or No: ').lower().startswith('y')"
      ],
      "metadata": {
        "id": "oDs33o9J640X"
      },
      "execution_count": 13,
      "outputs": []
    },
    {
      "cell_type": "markdown",
      "source": [
        "Step 10: Here comes the hard part! Use while loops and the functions you've made to run the game!"
      ],
      "metadata": {
        "id": "jn2Ev_kZ67tl"
      }
    },
    {
      "cell_type": "code",
      "source": [
        "print('Welcome to Tic Tac Toe!')\n",
        "\n",
        "while True:\n",
        "    # Reset the board\n",
        "    theBoard = [' '] * 10\n",
        "    player1_marker, player2_marker = player_input()\n",
        "    turn = choose_first()\n",
        "    print(turn + ' will go first.')\n",
        "\n",
        "    play_game = input('Are you ready to play? Enter Yes or No.')\n",
        "\n",
        "    if play_game.lower()[0] == 'y':\n",
        "        game_on = True\n",
        "    else:\n",
        "        game_on = False\n",
        "\n",
        "    while game_on:\n",
        "        if turn == 'Player 1':\n",
        "            # Player1's turn.\n",
        "            display_board(theBoard)\n",
        "            position = player_choice(theBoard)\n",
        "            place_marker(theBoard, player1_marker, position)\n",
        "\n",
        "            if win_check(theBoard, player1_marker):\n",
        "                display_board(theBoard)\n",
        "                print('Congratulations! You have won the game!')\n",
        "                game_on = False\n",
        "            else:\n",
        "                if full_board_check(theBoard):\n",
        "                    display_board(theBoard)\n",
        "                    print('The game is a draw!')\n",
        "                    break\n",
        "                else:\n",
        "                    turn = 'Player 2'\n",
        "        else:\n",
        "\n",
        "            # Player2's turn.\n",
        "\n",
        "            display_board(theBoard)\n",
        "            position = player_choice(theBoard)\n",
        "            place_marker(theBoard, player2_marker, position)\n",
        "\n",
        "            if win_check(theBoard, player2_marker):\n",
        "                display_board(theBoard)\n",
        "                print('Player 2 has won!')\n",
        "                game_on = False\n",
        "            else:\n",
        "                if full_board_check(theBoard):\n",
        "                    display_board(theBoard)\n",
        "                    print('The game is a draw!')\n",
        "                    break\n",
        "                else:\n",
        "                    turn = 'Player 1'\n",
        "\n",
        "    if not replay():\n",
        "        break\n"
      ],
      "metadata": {
        "colab": {
          "base_uri": "https://localhost:8080/"
        },
        "id": "jvy6Wq8L6_N2",
        "outputId": "26b9a699-4a87-42d0-f086-c0a492de83fe"
      },
      "execution_count": null,
      "outputs": [
        {
          "output_type": "stream",
          "name": "stdout",
          "text": [
            "   |   |\n",
            "   | X |  \n",
            "   |   |\n",
            "-----------\n",
            "   |   |\n",
            " O |   |  \n",
            "   |   |\n",
            "-----------\n",
            "   |   |\n",
            "   |   |  \n",
            "   |   |\n"
          ]
        }
      ]
    },
    {
      "cell_type": "code",
      "source": [],
      "metadata": {
        "id": "L4e0HXr17pPl"
      },
      "execution_count": null,
      "outputs": []
    }
  ]
}