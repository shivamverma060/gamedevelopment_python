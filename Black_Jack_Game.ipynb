{
  "nbformat": 4,
  "nbformat_minor": 0,
  "metadata": {
    "colab": {
      "provenance": []
    },
    "kernelspec": {
      "name": "python3",
      "display_name": "Python 3"
    },
    "language_info": {
      "name": "python"
    }
  },
  "cells": [
    {
      "cell_type": "markdown",
      "source": [
        "Game Play\n",
        "\n",
        "To play a hand of Blackjack the following steps must be followed:\n",
        "\n",
        "Create a deck of 52 cards\n",
        "\n",
        "Shuffle the deck\n",
        "\n",
        "Ask the Player for their bet\n",
        "\n",
        "Make sure that the Player's bet does not exceed their available chips\n",
        "\n",
        "Deal two cards to the Dealer and two cards to the Player\n",
        "\n",
        "Show only one of the Dealer's cards, the other remains hidden\n",
        "\n",
        "Show both of the Player's cards\n",
        "\n",
        "Ask the Player if they wish to Hit, and take another card\n",
        "\n",
        "If the Player's hand doesn't Bust (go over 21), ask if they'd like to Hit again.\n",
        "\n",
        "If a Player Stands, play the Dealer's hand. The dealer will always Hit until the Dealer's value meets or exceeds 17\n",
        "\n",
        "Determine the winner and adjust the Player's chips accordingly\n",
        "\n",
        "Ask the Player if they'd like to play again"
      ],
      "metadata": {
        "id": "Xjb3Q_WROxjW"
      }
    },
    {
      "cell_type": "markdown",
      "source": [
        "**Step 1: Import the random module. This will be used to shuffle the deck prior to dealing. Then, declare variables to store suits, ranks and values. You can develop your own system, or copy ours below. Finally, declare a Boolean value to be used to control while loops. This is a common practice used to control the flow of the game.**"
      ],
      "metadata": {
        "id": "V1nCIpMqPCJw"
      }
    },
    {
      "cell_type": "code",
      "execution_count": null,
      "metadata": {
        "id": "zvAYgSMnObtR"
      },
      "outputs": [],
      "source": [
        "import random\n",
        "\n",
        "suits = ('Hearts', 'Diamonds', 'Spades', 'Clubs')\n",
        "ranks = ('Two', 'Three', 'Four', 'Five', 'Six', 'Seven', 'Eight', 'Nine', 'Ten', 'Jack', 'Queen', 'King', 'Ace')\n",
        "values = {'Two':2, 'Three':3, 'Four':4, 'Five':5, 'Six':6, 'Seven':7, 'Eight':8, 'Nine':9, 'Ten':10, 'Jack':10,\n",
        "         'Queen':10, 'King':10, 'Ace':11}\n",
        "\n",
        "playing = True"
      ]
    },
    {
      "cell_type": "markdown",
      "source": [
        "**Step 2: Create a Card Class\n",
        "A Card object really only needs two attributes: suit and rank. You might add an attribute for \"value\" - we chose to handle value later when developing our Hand class.\n",
        "In addition to the Card's __init__ method, consider adding a __str__ method that, when asked to print a Card, returns a string in the form \"Two of Hearts\"**"
      ],
      "metadata": {
        "id": "VqosGTDXPIGm"
      }
    },
    {
      "cell_type": "code",
      "source": [
        "class Card:\n",
        "\n",
        "    def __init__(self,suit,rank):\n",
        "        self.suit = suit\n",
        "        self.rank = rank\n",
        "\n",
        "    def __str__(self):\n",
        "        return self.rank + ' of ' + self.suit"
      ],
      "metadata": {
        "id": "_qkW8suqPOzm"
      },
      "execution_count": null,
      "outputs": []
    },
    {
      "cell_type": "markdown",
      "source": [
        "**Step 3: Create a Deck Class\n",
        "Here we might store 52 card objects in a list that can later be shuffled. First, though, we need to instantiate all 52 unique card objects and add them to our list. So long as the Card class definition appears in our code, we can build Card objects inside our Deck __init__ method. Consider iterating over sequences of suits and ranks to build out each card. This might appear inside a Deck class __init__ method:**\n",
        "\n",
        "for suit in suits:\n",
        "\n",
        "    for rank in ranks:\n",
        "\n",
        "**In addition to an __init__ method we'll want to add methods to shuffle our deck, and to deal out cards during gameplay.**\n",
        "\n",
        "**OPTIONAL: We may never need to print the contents of the deck during gameplay, but having the ability to see the cards inside it may help troubleshoot any problems that occur during development. With this in mind, consider adding a __str__ method to the class definition.**"
      ],
      "metadata": {
        "id": "U3pw6f5CPRRg"
      }
    },
    {
      "cell_type": "code",
      "source": [
        "class Deck:\n",
        "\n",
        "    def __init__(self):\n",
        "        self.deck = []  # start with an empty list\n",
        "        for suit in suits:\n",
        "            for rank in ranks:\n",
        "                self.deck.append(Card(suit,rank))  # build Card objects and add them to the list\n",
        "\n",
        "    def __str__(self):\n",
        "        deck_comp = ''  # start with an empty string\n",
        "        for card in self.deck:\n",
        "            deck_comp += '\\n '+card.__str__() # add each Card object's print string\n",
        "        return 'The deck has:' + deck_comp\n",
        "\n",
        "    def shuffle(self):\n",
        "        random.shuffle(self.deck)\n",
        "\n",
        "    def deal(self):\n",
        "        single_card = self.deck.pop()\n",
        "        return single_card"
      ],
      "metadata": {
        "id": "yf-UwKOCPWFg"
      },
      "execution_count": null,
      "outputs": []
    },
    {
      "cell_type": "markdown",
      "source": [
        "TESTING: Just to see that everything works so far, let's see what our Deck looks like!"
      ],
      "metadata": {
        "id": "g0EWtK2ZPpoP"
      }
    },
    {
      "cell_type": "code",
      "source": [
        "test_deck = Deck()\n",
        "print(test_deck)"
      ],
      "metadata": {
        "id": "2We1cbn0Prm_"
      },
      "execution_count": null,
      "outputs": []
    },
    {
      "cell_type": "markdown",
      "source": [
        "**Step 4: Create a Hand Class\n",
        "In addition to holding Card objects dealt from the Deck, the Hand class may be used to calculate the value of those cards using the values dictionary defined above. It may also need to adjust for the value of Aces when appropriate.**"
      ],
      "metadata": {
        "id": "0BlOxFSQPwAu"
      }
    },
    {
      "cell_type": "code",
      "source": [
        "class Hand:\n",
        "    def __init__(self):\n",
        "        self.cards = []  # start with an empty list as we did in the Deck class\n",
        "        self.value = 0   # start with zero value\n",
        "        self.aces = 0    # add an attribute to keep track of aces\n",
        "\n",
        "    def add_card(self,card):\n",
        "        self.cards.append(card)\n",
        "        self.value += values[card.rank]\n",
        "\n",
        "    def adjust_for_ace(self):\n",
        "        pass"
      ],
      "metadata": {
        "id": "HrRpM0eFPtpW"
      },
      "execution_count": null,
      "outputs": []
    },
    {
      "cell_type": "markdown",
      "source": [
        "**TESTING: Before we tackle the issue of changing Aces, let's make sure we can add two cards to a player's hand and obtain their value:**"
      ],
      "metadata": {
        "id": "k4ll4ZfhP2Nv"
      }
    },
    {
      "cell_type": "code",
      "source": [
        "test_deck = Deck()\n",
        "test_deck.shuffle()\n",
        "test_player = Hand()\n",
        "test_player.add_card(test_deck.deal())\n",
        "test_player.add_card(test_deck.deal())\n",
        "test_player.value"
      ],
      "metadata": {
        "id": "RHu6MPSeP6Du"
      },
      "execution_count": null,
      "outputs": []
    },
    {
      "cell_type": "code",
      "source": [
        "for card in test_player.cards:\n",
        "    print(card)"
      ],
      "metadata": {
        "id": "V3Z9u39nP8Wp"
      },
      "execution_count": null,
      "outputs": []
    },
    {
      "cell_type": "markdown",
      "source": [
        "**Great! Now let's tackle the Aces issue. If a hand's value exceeds 21 but it contains an Ace, we can reduce the Ace's value from 11 to 1 and continue playing.**"
      ],
      "metadata": {
        "id": "7ZVqRx7qQD4G"
      }
    },
    {
      "cell_type": "code",
      "source": [
        "class Hand:\n",
        "\n",
        "    def __init__(self):\n",
        "        self.cards = []  # start with an empty list as we did in the Deck class\n",
        "        self.value = 0   # start with zero value\n",
        "        self.aces = 0    # add an attribute to keep track of aces\n",
        "\n",
        "    def add_card(self,card):\n",
        "        self.cards.append(card)\n",
        "        self.value += values[card.rank]\n",
        "        if card.rank == 'Ace':\n",
        "            self.aces += 1  # add to self.aces\n",
        "\n",
        "    def adjust_for_ace(self):\n",
        "        while self.value > 21 and self.aces:\n",
        "            self.value -= 10\n",
        "            self.aces -= 1"
      ],
      "metadata": {
        "id": "xxEDwKuHP_c2"
      },
      "execution_count": null,
      "outputs": []
    },
    {
      "cell_type": "markdown",
      "source": [
        "We added code to the add_card method to bump self.aces whenever an ace is brought into the hand, and added code to the adjust_for_aces method that decreases the number of aces any time we make an adjustment to stay under 21.\n",
        "\n",
        "Step 5: Create a Chips Class\n",
        "In addition to decks of cards and hands, we need to keep track of a Player's starting chips, bets, and ongoing winnings. This could be done using global variables, but in the spirit of object oriented programming, let's make a Chips class instead!"
      ],
      "metadata": {
        "id": "VUU-9ULXQI72"
      }
    },
    {
      "cell_type": "code",
      "source": [
        "class Chips:\n",
        "\n",
        "    def __init__(self):\n",
        "        self.total = 100  # This can be set to a default value or supplied by a user input\n",
        "        self.bet = 0\n",
        "\n",
        "    def win_bet(self):\n",
        "        self.total += self.bet\n",
        "\n",
        "    def lose_bet(self):\n",
        "        self.total -= self.bet"
      ],
      "metadata": {
        "id": "fMgAr82jQLoe"
      },
      "execution_count": null,
      "outputs": []
    },
    {
      "cell_type": "markdown",
      "source": [
        "A NOTE ABOUT OUR DEFAULT TOTAL VALUE:\n",
        "Alternatively, we could have passed a default total value as an parameter in the __init__. This would have let us pass in an override value at the time the object was created rather than wait until later to change it. The code would have looked like this:\n",
        "\n",
        "def __init__(self,total=100):\n",
        "    self.total = total\n",
        "    self.bet = 0\n",
        "\n",
        "Either technique is fine, it only depends on how you plan to start your game parameters.\n",
        "\n",
        "Function Defintions\n",
        "A lot of steps are going to be repetitive. That's where functions come in! The following steps are guidelines - add or remove functions as needed in your own program.\n",
        "\n",
        "Step 6: Write a function for taking bets\n",
        "Since we're asking the user for an integer value, this would be a good place to use try/except. Remember to check that a Player's bet can be covered by their available chips."
      ],
      "metadata": {
        "id": "NnDbkrwxQNgX"
      }
    },
    {
      "cell_type": "code",
      "source": [
        "def take_bet(chips):\n",
        "\n",
        "    while True:\n",
        "        try:\n",
        "            chips.bet = int(input('How many chips would you like to bet? '))\n",
        "        except ValueError:\n",
        "            print('Sorry, a bet must be an integer!')\n",
        "        else:\n",
        "            if chips.bet > chips.total:\n",
        "                print(\"Sorry, your bet can't exceed\",chips.total)\n",
        "            else:\n",
        "                break"
      ],
      "metadata": {
        "id": "e60AjJOBQQgG"
      },
      "execution_count": null,
      "outputs": []
    },
    {
      "cell_type": "markdown",
      "source": [
        "Step 7: Write a function for taking hits\n",
        "Either player can take hits until they bust. This function will be called during gameplay anytime a Player requests a hit, or a Dealer's hand is less than 17. It should take in Deck and Hand objects as arguments, and deal one card off the deck and add it to the Hand. You may want it to check for aces in the event that a player's hand exceeds 21."
      ],
      "metadata": {
        "id": "aW-PDxeBQWOG"
      }
    },
    {
      "cell_type": "code",
      "source": [
        "def hit(deck,hand):\n",
        "\n",
        "    hand.add_card(deck.deal())\n",
        "    hand.adjust_for_ace()"
      ],
      "metadata": {
        "id": "47xTiAbYQTxf"
      },
      "execution_count": null,
      "outputs": []
    },
    {
      "cell_type": "markdown",
      "source": [
        "Step 8: Write a function prompting the Player to Hit or Stand\n",
        "This function should accept the deck and the player's hand as arguments, and assign playing as a global variable.\n",
        "If the Player Hits, employ the hit() function above. If the Player Stands, set the playing variable to False - this will control the behavior of a while loop later on in our code."
      ],
      "metadata": {
        "id": "WLKRkASXQaIE"
      }
    },
    {
      "cell_type": "code",
      "source": [
        "def hit_or_stand(deck,hand):\n",
        "    global playing  # to control an upcoming while loop\n",
        "\n",
        "    while True:\n",
        "        x = input(\"Would you like to Hit or Stand? Enter 'h' or 's' \")\n",
        "\n",
        "        if x[0].lower() == 'h':\n",
        "            hit(deck,hand)  # hit() function defined above\n",
        "\n",
        "        elif x[0].lower() == 's':\n",
        "            print(\"Player stands. Dealer is playing.\")\n",
        "            playing = False\n",
        "\n",
        "        else:\n",
        "            print(\"Sorry, please try again.\")\n",
        "            continue\n",
        "        break"
      ],
      "metadata": {
        "id": "5xtontrRQYme"
      },
      "execution_count": null,
      "outputs": []
    },
    {
      "cell_type": "markdown",
      "source": [
        "Step 9: Write functions to display cards\n",
        "When the game starts, and after each time Player takes a card, the dealer's first card is hidden and all of Player's cards are visible. At the end of the hand all cards are shown, and you may want to show each hand's total value. Write a function for each of these scenarios."
      ],
      "metadata": {
        "id": "L3ttc8tcQco2"
      }
    },
    {
      "cell_type": "code",
      "source": [
        "def show_some(player,dealer):\n",
        "    print(\"\\nDealer's Hand:\")\n",
        "    print(\" <card hidden>\")\n",
        "    print('',dealer.cards[1])\n",
        "    print(\"\\nPlayer's Hand:\", *player.cards, sep='\\n ')\n",
        "\n",
        "def show_all(player,dealer):\n",
        "    print(\"\\nDealer's Hand:\", *dealer.cards, sep='\\n ')\n",
        "    print(\"Dealer's Hand =\",dealer.value)\n",
        "    print(\"\\nPlayer's Hand:\", *player.cards, sep='\\n ')\n",
        "    print(\"Player's Hand =\",player.value)"
      ],
      "metadata": {
        "id": "pf4lruJlQed3"
      },
      "execution_count": null,
      "outputs": []
    },
    {
      "cell_type": "markdown",
      "source": [
        "Step 10: Write functions to handle end of game scenarios\n",
        "Remember to pass player's hand, dealer's hand and chips as needed."
      ],
      "metadata": {
        "id": "BjnyJ1J8QgE3"
      }
    },
    {
      "cell_type": "code",
      "source": [
        "def player_busts(player,dealer,chips):\n",
        "    print(\"Player busts!\")\n",
        "    chips.lose_bet()\n",
        "\n",
        "def player_wins(player,dealer,chips):\n",
        "    print(\"Player wins!\")\n",
        "    chips.win_bet()\n",
        "\n",
        "def dealer_busts(player,dealer,chips):\n",
        "    print(\"Dealer busts!\")\n",
        "    chips.win_bet()\n",
        "\n",
        "def dealer_wins(player,dealer,chips):\n",
        "    print(\"Dealer wins!\")\n",
        "    chips.lose_bet()\n",
        "\n",
        "def push(player,dealer):\n",
        "    print(\"Dealer and Player tie! It's a push.\")"
      ],
      "metadata": {
        "id": "UXM8LylKQiUG"
      },
      "execution_count": null,
      "outputs": []
    },
    {
      "cell_type": "markdown",
      "source": [
        "# **And now on to the game!!**"
      ],
      "metadata": {
        "id": "wFJsVV0LQkst"
      }
    },
    {
      "cell_type": "code",
      "source": [
        "while True:\n",
        "    # Print an opening statement\n",
        "    print('Welcome to BlackJack! Get as close to 21 as you can without going over!\\n\\\n",
        "    Dealer hits until she reaches 17. Aces count as 1 or 11.')\n",
        "\n",
        "    # Create & shuffle the deck, deal two cards to each player\n",
        "    deck = Deck()\n",
        "    deck.shuffle()\n",
        "\n",
        "    player_hand = Hand()\n",
        "    player_hand.add_card(deck.deal())\n",
        "    player_hand.add_card(deck.deal())\n",
        "\n",
        "    dealer_hand = Hand()\n",
        "    dealer_hand.add_card(deck.deal())\n",
        "    dealer_hand.add_card(deck.deal())\n",
        "\n",
        "    # Set up the Player's chips\n",
        "    player_chips = Chips()  # remember the default value is 100\n",
        "\n",
        "    # Prompt the Player for their bet\n",
        "    take_bet(player_chips)\n",
        "\n",
        "    # Show cards (but keep one dealer card hidden)\n",
        "    show_some(player_hand,dealer_hand)\n",
        "\n",
        "    while playing:  # recall this variable from our hit_or_stand function\n",
        "     # Prompt for Player to Hit or Stand\n",
        "        hit_or_stand(deck,player_hand)\n",
        "\n",
        "        # Show cards (but keep one dealer card hidden)\n",
        "        show_some(player_hand,dealer_hand)\n",
        "\n",
        "        # If player's hand exceeds 21, run player_busts() and break out of loop\n",
        "        if player_hand.value > 21:\n",
        "            player_busts(player_hand,dealer_hand,player_chips)\n",
        "            break\n",
        "\n",
        "\n",
        "    # If Player hasn't busted, play Dealer's hand until Dealer reaches 17\n",
        "    if player_hand.value <= 21:\n",
        "\n",
        "        while dealer_hand.value < 17:\n",
        "            hit(deck,dealer_hand)\n",
        "\n",
        "        # Show all cards\n",
        "        show_all(player_hand,dealer_hand)\n",
        "\n",
        "        # Run different winning scenarios\n",
        "        if dealer_hand.value > 21:\n",
        "            dealer_busts(player_hand,dealer_hand,player_chips)\n",
        "\n",
        "        elif dealer_hand.value > player_hand.value:\n",
        "            dealer_wins(player_hand,dealer_hand,player_chips)\n",
        "\n",
        "        elif dealer_hand.value < player_hand.value:\n",
        "            player_wins(player_hand,dealer_hand,player_chips)\n",
        "\n",
        "        else:\n",
        "            push(player_hand,dealer_hand)\n",
        "\n",
        "    # Inform Player of their chips total\n",
        "    print(\"\\nPlayer's winnings stand at\",player_chips.total)\n",
        "\n",
        "    # Ask to play again\n",
        "    new_game = input(\"Would you like to play another hand? Enter 'y' or 'n' \")\n",
        "\n",
        "    if new_game[0].lower()=='y':\n",
        "        playing=True\n",
        "        continue\n",
        "    else:\n",
        "        print(\"Thanks for playing!\")\n",
        "        break\n"
      ],
      "metadata": {
        "id": "eFvK9VCBQn1t"
      },
      "execution_count": null,
      "outputs": []
    }
  ]
}